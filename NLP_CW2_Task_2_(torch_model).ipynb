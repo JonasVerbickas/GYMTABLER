{
  "nbformat": 4,
  "nbformat_minor": 0,
  "metadata": {
    "colab": {
      "provenance": [],
      "mount_file_id": "19syC5mpURlHfTZyelDgELoeoubJaZ5t3",
      "authorship_tag": "ABX9TyNwuLsu8HooDQSRRzSNM61R",
      "include_colab_link": true
    },
    "kernelspec": {
      "name": "python3",
      "display_name": "Python 3"
    },
    "language_info": {
      "name": "python"
    }
  },
  "cells": [
    {
      "cell_type": "markdown",
      "metadata": {
        "id": "view-in-github",
        "colab_type": "text"
      },
      "source": [
        "<a href=\"https://colab.research.google.com/github/JonasVerbickas/GYMTABLER/blob/master/NLP_CW2_Task_2_(torch_model).ipynb\" target=\"_parent\"><img src=\"https://colab.research.google.com/assets/colab-badge.svg\" alt=\"Open In Colab\"/></a>"
      ]
    },
    {
      "cell_type": "code",
      "execution_count": 2,
      "metadata": {
        "id": "NvI835jinwKk"
      },
      "outputs": [],
      "source": [
        "import nltk\n",
        "import os\n",
        "import re\n",
        "import pandas as pd\n",
        "import collections\n",
        "import random\n",
        "import torch\n",
        "from gensim.models import Word2Vec, FastText\n",
        "from matplotlib import pyplot as plt"
      ]
    },
    {
      "cell_type": "code",
      "source": [
        "USE_STEMMING_INSTEAD_OF_LEMMATIZATION = False"
      ],
      "metadata": {
        "id": "g3A_06E5RQXz"
      },
      "execution_count": 3,
      "outputs": []
    },
    {
      "cell_type": "code",
      "source": [
        "nltk.download('punkt')\n",
        "nltk.download('stopwords')\n",
        "nltk.download('averaged_perceptron_tagger')\n",
        "nltk.download('vader_lexicon')\n",
        "nltk.download('wordnet')\n",
        "nltk.download('omw-1.4')\n",
        "if USE_STEMMING_INSTEAD_OF_LEMMATIZATION:\n",
        "  token_processing_fn = nltk.PorterStemmer().stem \n",
        "else:\n",
        "  token_processing_fn = nltk.stem.WordNetLemmatizer().lemmatize\n"
      ],
      "metadata": {
        "colab": {
          "base_uri": "https://localhost:8080/"
        },
        "id": "x2oxf4e9pDRj",
        "outputId": "19c5e1d4-c1cb-4f7a-8da0-2a3cf1cbcde7"
      },
      "execution_count": 4,
      "outputs": [
        {
          "output_type": "stream",
          "name": "stderr",
          "text": [
            "[nltk_data] Downloading package punkt to /root/nltk_data...\n",
            "[nltk_data]   Unzipping tokenizers/punkt.zip.\n",
            "[nltk_data] Downloading package stopwords to /root/nltk_data...\n",
            "[nltk_data]   Unzipping corpora/stopwords.zip.\n",
            "[nltk_data] Downloading package averaged_perceptron_tagger to\n",
            "[nltk_data]     /root/nltk_data...\n",
            "[nltk_data]   Unzipping taggers/averaged_perceptron_tagger.zip.\n",
            "[nltk_data] Downloading package vader_lexicon to /root/nltk_data...\n",
            "[nltk_data] Downloading package wordnet to /root/nltk_data...\n",
            "[nltk_data] Downloading package omw-1.4 to /root/nltk_data...\n"
          ]
        }
      ]
    },
    {
      "cell_type": "code",
      "source": [
        "def create_concat_text_content_string(path_to_dataset):\n",
        "  file_contents = \"\"\n",
        "  for filename in os.listdir(PATH_TO_REVIEWS):\n",
        "    # skip readme\n",
        "    if filename in ['README.txt', 'ipod']:\n",
        "      continue\n",
        "    # append contents of other files to file_contents string\n",
        "    starting_corpus_size = len(file_contents)\n",
        "    with open(os.path.join(PATH_TO_REVIEWS, filename)) as f:\n",
        "      file_contents += f.read()\n",
        "    print(\"After appending\", filename, \"corpus sized increased to\", starting_corpus_size, \"->\", len(file_contents))\n",
        "  return file_contents"
      ],
      "metadata": {
        "id": "Clq3AOsulBaK"
      },
      "execution_count": 5,
      "outputs": []
    },
    {
      "cell_type": "code",
      "source": [
        "def removeAnnotationSymbols(sentence):\n",
        "  static_removals = ['[t]', '[u]','[p]','[s]','[cc]','[cs]']\n",
        "  for symbol in static_removals:\n",
        "    sentence = sentence.replace(symbol, '')\n",
        "  return sentence"
      ],
      "metadata": {
        "id": "oiC-3gdUmucm"
      },
      "execution_count": 15,
      "outputs": []
    },
    {
      "cell_type": "code",
      "source": [
        "def calculateSentement(unprocessed_sentence):\n",
        "  semantic_tokens = re.findall('\\[([+-]\\d)\\]', unprocessed_sentence)\n",
        "  semantic_sum = 0\n",
        "  for token in semantic_tokens:\n",
        "    semantic_sum += int(token)\n",
        "  return semantic_sum"
      ],
      "metadata": {
        "id": "ttGNmX0onMtl"
      },
      "execution_count": 16,
      "outputs": []
    },
    {
      "cell_type": "code",
      "source": [
        "def process_string_of_reviews_into_df(string_of_reviews):\n",
        "  \"\"\"\n",
        "  1. Apply casefolding\n",
        "  2. Expand contractions\n",
        "  3. Tokenize sentances\n",
        "  4. Ignore stop-words\n",
        "  5. Ignore tokens that don't contain any alphanumeric characters\n",
        "  6. Ignore sentiment analysis tokens e.g. `+3`\n",
        "  \"\"\"\n",
        "  list_of_reviews = string_of_reviews.split(\"[t]\\n\")\n",
        "  tokenized_sentence_sentiment_list = []\n",
        "  for review in list_of_reviews:\n",
        "    sentiment = 0\n",
        "    processed_review = \"\"\n",
        "    review_split_into_lines = review.split('\\n')\n",
        "    for line in review_split_into_lines:\n",
        "      sentiment_tags, _, sentence = line.partition(\"##\")\n",
        "      sentiment += calculateSentement(sentiment_tags)\n",
        "      x = removeAnnotationSymbols(sentence)\n",
        "      x = x.casefold()\n",
        "      processed_review = f\"{processed_review} {x}\"\n",
        "    tokenized_sentence_sentiment_list.append([review, processed_review, sentiment])\n",
        "  df = pd.DataFrame(tokenized_sentence_sentiment_list, columns=['original review','processed review','sentiment'])\n",
        "  return df\n"
      ],
      "metadata": {
        "id": "nW59XNg_mJvQ"
      },
      "execution_count": 41,
      "outputs": []
    },
    {
      "cell_type": "code",
      "source": [
        "class ReviewDataset(torch.utils.data.Dataset):\n",
        "  def __init__(self, path_to_review_folder):\n",
        "        string_of_reviews = create_concat_text_content_string(path_to_review_folder)\n",
        "        self.review_df = process_string_of_reviews_into_df(string_of_reviews)\n",
        "        \n",
        "  def __len__(self):\n",
        "    return len(self.review_df)\n",
        "\n",
        "  def __getitem__(self, idx):\n",
        "    return self.review_df.iloc[idx]\n"
      ],
      "metadata": {
        "id": "d3Vjvkb4kDDf"
      },
      "execution_count": 42,
      "outputs": []
    },
    {
      "cell_type": "code",
      "source": [
        "PATH_TO_REVIEWS = \"/content/drive/MyDrive/Colab Notebooks/product_reviews\"\n",
        "dataset = ReviewDataset(PATH_TO_REVIEWS)\n",
        "dataset[0]"
      ],
      "metadata": {
        "id": "gqPx_Zhjn_Ws",
        "colab": {
          "base_uri": "https://localhost:8080/"
        },
        "outputId": "3284299e-6b55-4f89-f025-c5aced664246"
      },
      "execution_count": 43,
      "outputs": [
        {
          "output_type": "stream",
          "name": "stdout",
          "text": [
            "After appending Nokia_6600.txt corpus sized increased to 0 -> 56093\n",
            "After appending norton.txt corpus sized increased to 56093 -> 95013\n",
            "After appending Linksys_Router.txt corpus sized increased to 95013 -> 151947\n",
            "After appending MicroMP3.txt corpus sized increased to 151947 -> 259727\n",
            "After appending Diaper_Champ.txt corpus sized increased to 259727 -> 294831\n",
            "After appending Hitachi_router.txt corpus sized increased to 294831 -> 325078\n",
            "After appending Canon_S100.txt corpus sized increased to 325078 -> 353887\n",
            "After appending Canon_PowerShot_SD500.txt corpus sized increased to 353887 -> 378520\n",
            "After appending ipod.txt corpus sized increased to 378520 -> 436566\n"
          ]
        },
        {
          "output_type": "execute_result",
          "data": {
            "text/plain": [
              "original review      \n",
              "processed review     \n",
              "sentiment           0\n",
              "Name: 0, dtype: object"
            ]
          },
          "metadata": {},
          "execution_count": 43
        }
      ]
    },
    {
      "cell_type": "code",
      "source": [
        "dataset[5]['processed review']"
      ],
      "metadata": {
        "id": "NYWcxdVjjeJE",
        "colab": {
          "base_uri": "https://localhost:8080/",
          "height": 53
        },
        "outputId": "b27d43cf-14e6-401c-f80b-31b6e89fa783"
      },
      "execution_count": 49,
      "outputs": [
        {
          "output_type": "execute_result",
          "data": {
            "text/plain": [
              "' this phone is flashy and feels good in the hand, but it could not hold a connection to any of my bluetooth devices (headset, handheld, or desktop computer). my old siemens s56, on the other hand, worked beautifully with all of the above. '"
            ],
            "application/vnd.google.colaboratory.intrinsic+json": {
              "type": "string"
            }
          },
          "metadata": {},
          "execution_count": 49
        }
      ]
    },
    {
      "cell_type": "code",
      "source": [],
      "metadata": {
        "id": "CPAWEi_Qp1Mv"
      },
      "execution_count": null,
      "outputs": []
    }
  ]
}